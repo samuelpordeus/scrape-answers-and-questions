{
 "cells": [
  {
   "cell_type": "code",
   "execution_count": null,
   "metadata": {},
   "outputs": [],
   "source": [
    "import pandas as pd\n",
    "import numpy as np\n",
    "import requests\n",
    "import json\n",
    "import os\n",
    "\n",
    "from time import sleep"
   ]
  },
  {
   "cell_type": "markdown",
   "metadata": {},
   "source": [
    "# Search tweets"
   ]
  },
  {
   "cell_type": "code",
   "execution_count": null,
   "metadata": {},
   "outputs": [],
   "source": [
    "count = 0\n",
    "tema = \"copa\"\n",
    "\n",
    "print(\"O tema escolhido foi:\", tema)\n",
    "for ano in range(2016, 2018):\n",
    "    for mes in range(1, 13):\n",
    "        if count < 9:\n",
    "            count += 1\n",
    "            continue\n",
    "        print(\"Vamos pegar os tweets do mês\", mes, \"do ano\", ano)\n",
    "        os.system('scrape-twitter search --query \"%s ? since:%i-0%i-01 until:2016-0%i-01 lang:pt -filter:retweets -filter:links\" --type latest > perguntas%i-%i.json'%(tema, ano, mes, mes+1, ano, mes))\n",
    "        print(\"Processo terminado! - aguardando 60s para começar o próximo mês \\n\")\n",
    "        sleep(60)"
   ]
  },
  {
   "cell_type": "markdown",
   "metadata": {},
   "source": [
    "# Carregando o que salvamos\n",
    "### "
   ]
  },
  {
   "cell_type": "code",
   "execution_count": null,
   "metadata": {},
   "outputs": [],
   "source": [
    "data = json.load(open('copa/perguntas2016-1.json'))\n",
    "df = pd.DataFrame(data)\n",
    "\n",
    "df.head()"
   ]
  },
  {
   "cell_type": "markdown",
   "metadata": {},
   "source": [
    "# Tratando a informação"
   ]
  },
  {
   "cell_type": "code",
   "execution_count": null,
   "metadata": {},
   "outputs": [],
   "source": [
    "df = df[df.replyCount > 0]\n",
    "df = df[df.isReplyTo == False]\n",
    "#df = df[df.userMentions == []]\n",
    "df = df.assign(answer=None)\n",
    "\n",
    "len(df)\n",
    "df.tail()"
   ]
  },
  {
   "cell_type": "markdown",
   "metadata": {},
   "source": [
    "# Search answers"
   ]
  },
  {
   "cell_type": "code",
   "execution_count": null,
   "metadata": {},
   "outputs": [],
   "source": [
    "for index, row in df.iterrows():\n",
    "    username = row[\"screenName\"]\n",
    "    tweet_id = row[\"id\"]\n",
    "    #os.system(\"scrape-twitter conversation %s %s >> respostas.json\" % (username, tweet_id))\n",
    "    try:\n",
    "        data = json.loads(os.popen(\"scrape-twitter conversation %s %s\" % (username, tweet_id)).read())\n",
    "        print(\"Não deu merda!\")\n",
    "    except:\n",
    "        print(\"Erro!\")       \n",
    "    try:\n",
    "        df.set_value(index, 'answer', data[1]['text'])\n",
    "    except:\n",
    "        print(\"Index problem: ignoring row\")"
   ]
  },
  {
   "cell_type": "markdown",
   "metadata": {},
   "source": [
    "# Tratando os tweets"
   ]
  },
  {
   "cell_type": "code",
   "execution_count": null,
   "metadata": {},
   "outputs": [],
   "source": [
    "df = df[['text', 'answer']]\n",
    "df = df.dropna()"
   ]
  },
  {
   "cell_type": "code",
   "execution_count": null,
   "metadata": {},
   "outputs": [],
   "source": [
    "qa = [{\"q\": x, \"a\": y} for x, y in df.values]\n",
    "q = np.array(df[\"text\"])\n",
    "a = np.array([df[\"answer\"], 280])"
   ]
  },
  {
   "cell_type": "markdown",
   "metadata": {},
   "source": [
    "### Como resultado temos *qa* como uma lista de dicionários, onde q é a pergunta e a é a resposta"
   ]
  }
 ],
 "metadata": {
  "kernelspec": {
   "display_name": "Python 3",
   "language": "python",
   "name": "python3"
  },
  "language_info": {
   "codemirror_mode": {
    "name": "ipython",
    "version": 3
   },
   "file_extension": ".py",
   "mimetype": "text/x-python",
   "name": "python",
   "nbconvert_exporter": "python",
   "pygments_lexer": "ipython3",
   "version": "3.6.2"
  }
 },
 "nbformat": 4,
 "nbformat_minor": 2
}
